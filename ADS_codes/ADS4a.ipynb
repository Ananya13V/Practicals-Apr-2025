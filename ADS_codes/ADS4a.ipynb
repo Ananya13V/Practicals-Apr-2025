{
 "cells": [
  {
   "cell_type": "markdown",
   "metadata": {},
   "source": [
    "Exp 4 : Supervised Learning "
   ]
  },
  {
   "cell_type": "markdown",
   "metadata": {
    "id": "V3Iq9HMG-MPn"
   },
   "source": [
    "Classification"
   ]
  },
  {
   "cell_type": "code",
   "execution_count": 1,
   "metadata": {
    "id": "N5KWEiLY-FGO"
   },
   "outputs": [],
   "source": [
    "from sklearn import datasets\n",
    "from sklearn.tree import DecisionTreeClassifier\n",
    "from sklearn.model_selection import train_test_split\n",
    "\n"
   ]
  },
  {
   "cell_type": "code",
   "execution_count": 2,
   "metadata": {
    "id": "jK9Jv4QK_LYG"
   },
   "outputs": [],
   "source": [
    "dataset = datasets.load_breast_cancer()\n",
    "X = dataset.data\n",
    "y = dataset.target"
   ]
  },
  {
   "cell_type": "code",
   "execution_count": 3,
   "metadata": {
    "id": "TAWkBsy__WA6"
   },
   "outputs": [],
   "source": [
    "X_train, X_test, y_train, y_test = train_test_split(X, y, test_size=0.2)"
   ]
  },
  {
   "cell_type": "code",
   "execution_count": 4,
   "metadata": {
    "id": "Hf1aPdY7_ags"
   },
   "outputs": [],
   "source": [
    "clf_tree = DecisionTreeClassifier()\n",
    "clf_tree.fit(X_train, y_train); \n"
   ]
  },
  {
   "cell_type": "code",
   "execution_count": 5,
   "metadata": {
    "colab": {
     "base_uri": "https://localhost:8080/"
    },
    "executionInfo": {
     "elapsed": 22,
     "status": "ok",
     "timestamp": 1682345652775,
     "user": {
      "displayName": "munot tanay",
      "userId": "15858269882896927301"
     },
     "user_tz": -330
    },
    "id": "OiqSF4vPAPrw",
    "outputId": "4bb6e391-2972-4014-8060-1647b7c9e994"
   },
   "outputs": [
    {
     "name": "stdout",
     "output_type": "stream",
     "text": [
      "[1 1 1 1 0 1 1 0 1 1 0 1 1 1 1 1 1 1 0 0 1 1 1 0 1 1 0 1 1 1 1 1 1 1 1 0 1\n",
      " 1 1 1 1 1 1 0 0 0 1 0 1 1 1 1 1 0 0 1 0 0 1 0 1 0 1 1 1 0 0 1 1 0 1 0 1 0\n",
      " 1 0 1 1 0 0 1 1 1 0 1 1 1 0 1 1 1 1 0 1 0 1 1 0 1 1 1 1 1 1 0 0 1 1 0 0 1\n",
      " 0 1 1]\n"
     ]
    }
   ],
   "source": [
    "y_pred = clf_tree.predict(X_test)\n",
    "print(y_pred)"
   ]
  },
  {
   "cell_type": "markdown",
   "metadata": {
    "id": "Jdhc6jcACIBQ"
   },
   "source": [
    "Evaluation Metrics"
   ]
  },
  {
   "cell_type": "code",
   "execution_count": 6,
   "metadata": {
    "colab": {
     "base_uri": "https://localhost:8080/"
    },
    "executionInfo": {
     "elapsed": 19,
     "status": "ok",
     "timestamp": 1682345652775,
     "user": {
      "displayName": "munot tanay",
      "userId": "15858269882896927301"
     },
     "user_tz": -330
    },
    "id": "K_by18XBCLgR",
    "outputId": "76cb175b-743b-4705-f892-92e12c75fcc8"
   },
   "outputs": [
    {
     "name": "stdout",
     "output_type": "stream",
     "text": [
      "True Negatives 33\n",
      "False Negatives 3\n",
      "True Positives 74\n",
      "False Positives 4\n"
     ]
    }
   ],
   "source": [
    "from sklearn.metrics import confusion_matrix\n",
    "tn, fp, fn, tp = confusion_matrix(y_test,y_pred).ravel()\n",
    "print(\"True Negatives {}\".format(tn))\n",
    "print(\"False Negatives {}\".format(fn))\n",
    "print(\"True Positives {}\".format(tp))\n",
    "print(\"False Positives {}\".format(fp))\n"
   ]
  },
  {
   "cell_type": "code",
   "execution_count": 7,
   "metadata": {
    "colab": {
     "base_uri": "https://localhost:8080/"
    },
    "executionInfo": {
     "elapsed": 16,
     "status": "ok",
     "timestamp": 1682345652776,
     "user": {
      "displayName": "munot tanay",
      "userId": "15858269882896927301"
     },
     "user_tz": -330
    },
    "id": "xyR3kK9gHDtV",
    "outputId": "6be3af67-3b21-4506-9d1d-9d099c2e928b"
   },
   "outputs": [
    {
     "name": "stdout",
     "output_type": "stream",
     "text": [
      "Accuracy 0.9385964912280702\n"
     ]
    }
   ],
   "source": [
    "acc = (tn+tp)/(tn+tp+fn+fp)\n",
    "print(\"Accuracy {}\".format(acc))"
   ]
  },
  {
   "cell_type": "code",
   "execution_count": 8,
   "metadata": {
    "colab": {
     "base_uri": "https://localhost:8080/"
    },
    "executionInfo": {
     "elapsed": 527,
     "status": "ok",
     "timestamp": 1678445094445,
     "user": {
      "displayName": "munot tanay",
      "userId": "15858269882896927301"
     },
     "user_tz": -330
    },
    "id": "CQ87YwbwHfTf",
    "outputId": "08f81604-1072-4b56-91b9-bfc6c0b03427"
   },
   "outputs": [
    {
     "name": "stdout",
     "output_type": "stream",
     "text": [
      "Error Rate 0.06140350877192982\n"
     ]
    }
   ],
   "source": [
    "error_rate = (fn+fp)/(tn+tp+fn+fp)\n",
    "print(\"Error Rate {}\".format(error_rate))\n"
   ]
  },
  {
   "cell_type": "code",
   "execution_count": 9,
   "metadata": {
    "colab": {
     "base_uri": "https://localhost:8080/"
    },
    "executionInfo": {
     "elapsed": 525,
     "status": "ok",
     "timestamp": 1678445155678,
     "user": {
      "displayName": "munot tanay",
      "userId": "15858269882896927301"
     },
     "user_tz": -330
    },
    "id": "RMANQNydH7Pi",
    "outputId": "e46d4219-1807-4b02-c842-1444fc03d1ba"
   },
   "outputs": [
    {
     "name": "stdout",
     "output_type": "stream",
     "text": [
      "Precision 0.9487179487179487\n"
     ]
    }
   ],
   "source": [
    "precision = tp/(tp+fp)\n",
    "print(\"Precision {}\".format(precision))"
   ]
  },
  {
   "cell_type": "code",
   "execution_count": 10,
   "metadata": {
    "colab": {
     "base_uri": "https://localhost:8080/"
    },
    "executionInfo": {
     "elapsed": 13,
     "status": "ok",
     "timestamp": 1678445249848,
     "user": {
      "displayName": "munot tanay",
      "userId": "15858269882896927301"
     },
     "user_tz": -330
    },
    "id": "78CJX1jUIKCE",
    "outputId": "1f216b78-e5c8-458b-dc02-e0e2f15b383a"
   },
   "outputs": [
    {
     "name": "stdout",
     "output_type": "stream",
     "text": [
      "Sensitivity 0.961038961038961\n",
      "Specificity 0.8918918918918919\n"
     ]
    }
   ],
   "source": [
    "sns = tp/(tp+fn)\n",
    "spc = tn/(tn+fp)\n",
    "print(\"Sensitivity {}\".format(sns))\n",
    "print(\"Specificity {}\".format(spc))"
   ]
  },
  {
   "cell_type": "code",
   "execution_count": 11,
   "metadata": {
    "colab": {
     "base_uri": "https://localhost:8080/"
    },
    "executionInfo": {
     "elapsed": 1096,
     "status": "ok",
     "timestamp": 1678445383874,
     "user": {
      "displayName": "munot tanay",
      "userId": "15858269882896927301"
     },
     "user_tz": -330
    },
    "id": "USHgOcUMIhOr",
    "outputId": "24618637-718d-4571-878b-e3a1d8318c52"
   },
   "outputs": [
    {
     "name": "stdout",
     "output_type": "stream",
     "text": [
      "ROC 0.9271103039707151\n"
     ]
    }
   ],
   "source": [
    "import math\n",
    "roc = math.sqrt((sns*sns)+(spc*spc))/math.sqrt(2)\n",
    "print(\"ROC {}\".format(roc))"
   ]
  },
  {
   "cell_type": "code",
   "execution_count": 12,
   "metadata": {
    "colab": {
     "base_uri": "https://localhost:8080/"
    },
    "executionInfo": {
     "elapsed": 478,
     "status": "ok",
     "timestamp": 1678445443062,
     "user": {
      "displayName": "munot tanay",
      "userId": "15858269882896927301"
     },
     "user_tz": -330
    },
    "id": "-dKG9v1PJBrZ",
    "outputId": "177dccd2-193c-4049-f1be-82542bff186c"
   },
   "outputs": [
    {
     "name": "stdout",
     "output_type": "stream",
     "text": [
      "Geometric Mean 0.9258200997725514\n"
     ]
    }
   ],
   "source": [
    "GM = math.sqrt(sns*spc)\n",
    "print(\"Geometric Mean {}\".format(GM))"
   ]
  },
  {
   "cell_type": "code",
   "execution_count": 13,
   "metadata": {
    "colab": {
     "base_uri": "https://localhost:8080/"
    },
    "executionInfo": {
     "elapsed": 349,
     "status": "ok",
     "timestamp": 1678445514600,
     "user": {
      "displayName": "munot tanay",
      "userId": "15858269882896927301"
     },
     "user_tz": -330
    },
    "id": "-WBsAm1ZJQDA",
    "outputId": "707686b3-2202-498d-fe83-f67090865714"
   },
   "outputs": [
    {
     "name": "stdout",
     "output_type": "stream",
     "text": [
      "f1 score 0.9548387096774195\n"
     ]
    }
   ],
   "source": [
    "f1 = (2*sns*precision)/(precision+sns)\n",
    "print(\"f1 score {}\".format(f1))"
   ]
  },
  {
   "cell_type": "code",
   "execution_count": 14,
   "metadata": {
    "colab": {
     "base_uri": "https://localhost:8080/"
    },
    "executionInfo": {
     "elapsed": 441,
     "status": "ok",
     "timestamp": 1678445628387,
     "user": {
      "displayName": "munot tanay",
      "userId": "15858269882896927301"
     },
     "user_tz": -330
    },
    "id": "GfPlrkJwJhkB",
    "outputId": "0f1b7a25-6d5a-457e-da71-796f9257e5e4"
   },
   "outputs": [
    {
     "name": "stdout",
     "output_type": "stream",
     "text": [
      "False positive Rate 0.10810810810810811\n",
      "false negative Rate 0.038961038961038974\n",
      "Power 0.961038961038961\n"
     ]
    }
   ],
   "source": [
    "fpr = 1-spc\n",
    "fnr = 1 -sns\n",
    "power = 1 - fnr\n",
    "print(\"False positive Rate {}\".format(fpr))\n",
    "print(\"false negative Rate {}\".format(fnr))\n",
    "print(\"Power {}\".format(power))"
   ]
  },
  {
   "cell_type": "markdown",
   "metadata": {
    "id": "_9_i4s1GKqWp"
   },
   "source": [
    "Plot ROC Curve"
   ]
  },
  {
   "cell_type": "code",
   "execution_count": 15,
   "metadata": {
    "colab": {
     "base_uri": "https://localhost:8080/"
    },
    "executionInfo": {
     "elapsed": 13,
     "status": "ok",
     "timestamp": 1682345652776,
     "user": {
      "displayName": "munot tanay",
      "userId": "15858269882896927301"
     },
     "user_tz": -330
    },
    "id": "BuziLJBMKsIm",
    "outputId": "9e9fb6e2-1016-47f7-f6cb-1a9849dce6df"
   },
   "outputs": [
    {
     "name": "stdout",
     "output_type": "stream",
     "text": [
      "roc_auc_score for DecisionTree:  0.9264654264654265\n"
     ]
    }
   ],
   "source": [
    "\n",
    "from sklearn.metrics import roc_curve, roc_auc_score\n",
    "false_positive_rate1, true_positive_rate1, threshold1 = roc_curve(y_test, y_pred)\n",
    "print('roc_auc_score for DecisionTree: ', roc_auc_score(y_test, y_pred))\n"
   ]
  },
  {
   "cell_type": "code",
   "execution_count": 16,
   "metadata": {
    "colab": {
     "base_uri": "https://localhost:8080/",
     "height": 872
    },
    "executionInfo": {
     "elapsed": 773,
     "status": "ok",
     "timestamp": 1682345854808,
     "user": {
      "displayName": "munot tanay",
      "userId": "15858269882896927301"
     },
     "user_tz": -330
    },
    "id": "zGs66jzGK27J",
    "outputId": "af9279c6-bdd9-4aae-c568-b0ebcf4c200f"
   },
   "outputs": [
    {
     "data": {
      "image/png": "[encoded data removed]",
      "text/plain": [
       "<Figure size 1000x1000 with 1 Axes>"
      ]
     },
     "metadata": {},
     "output_type": "display_data"
    }
   ],
   "source": [
    "import matplotlib.pyplot as plt\n",
    "plt.subplots(1, figsize=(10,10))\n",
    "plt.title('Receiver Operating Characteristic - DecisionTree')\n",
    "plt.plot(false_positive_rate1, true_positive_rate1)\n",
    "plt.plot([0,1],ls='--')\n",
    "plt.plot([0,0],[0,1],c='.7')\n",
    "plt.plot([1,1],c='.7')\n",
    "plt.ylabel('True Positive Rate')\n",
    "plt.xlabel('False Positive Rate')\n",
    "plt.show()"
   ]
  },
  {
   "cell_type": "markdown",
   "metadata": {
    "id": "PBDnKbtoOxJc"
   },
   "source": [
    "Regression"
   ]
  },
  {
   "cell_type": "code",
   "execution_count": 17,
   "metadata": {
    "colab": {
     "base_uri": "https://localhost:8080/",
     "height": 73
    },
    "executionInfo": {
     "elapsed": 17039,
     "status": "ok",
     "timestamp": 1678453568590,
     "user": {
      "displayName": "munot tanay",
      "userId": "15858269882896927301"
     },
     "user_tz": -330
    },
    "id": "glg1jZmTk8A1",
    "outputId": "c1355f3d-ff5f-485f-fd70-b3a6d1b093dc"
   },
   "outputs": [],
   "source": [
    "import io\n",
    "import pandas as pd\n",
    "import numpy as np\n",
    "\n",
    "df = pd.read_csv(\n",
    "    \"C:\\\\Users\\\\DELL\\\\Desktop\\\\College\\\\Practicals-Apr-2025\\\\ADS_codes\\\\ADS Datasets\\\\iris.csv\"\n",
    ")\n"
   ]
  },
  {
   "cell_type": "code",
   "execution_count": 18,
   "metadata": {},
   "outputs": [
    {
     "name": "stdout",
     "output_type": "stream",
     "text": [
      "<class 'pandas.core.frame.DataFrame'>\n",
      "RangeIndex: 150 entries, 0 to 149\n",
      "Data columns (total 6 columns):\n",
      " #   Column         Non-Null Count  Dtype  \n",
      "---  ------         --------------  -----  \n",
      " 0   Id             150 non-null    int64  \n",
      " 1   SepalLengthCm  150 non-null    float64\n",
      " 2   SepalWidthCm   150 non-null    float64\n",
      " 3   PetalLengthCm  150 non-null    float64\n",
      " 4   PetalWidthCm   150 non-null    float64\n",
      " 5   Species        150 non-null    object \n",
      "dtypes: float64(4), int64(1), object(1)\n",
      "memory usage: 7.2+ KB\n"
     ]
    }
   ],
   "source": [
    "df.info()"
   ]
  },
  {
   "cell_type": "code",
   "execution_count": 19,
   "metadata": {
    "colab": {
     "base_uri": "https://localhost:8080/",
     "height": 297
    },
    "executionInfo": {
     "elapsed": 1632,
     "status": "ok",
     "timestamp": 1678453652766,
     "user": {
      "displayName": "munot tanay",
      "userId": "15858269882896927301"
     },
     "user_tz": -330
    },
    "id": "DNTp-HEQlgky",
    "outputId": "eb4c7cc6-3328-4a3c-c452-dd4abcc14f69"
   },
   "outputs": [
    {
     "data": {
      "image/png": "[encoded data removed]",
      "text/plain": [
       "<Figure size 800x600 with 1 Axes>"
      ]
     },
     "metadata": {},
     "output_type": "display_data"
    }
   ],
   "source": [
    "# Applying log-log regression and visualising with a regression plot\n",
    "# We filter out rows where petal length or width is zero (to avoid log(0)).\n",
    "\n",
    "import numpy as np\n",
    "import seaborn as sns\n",
    "import matplotlib.pyplot as plt\n",
    "\n",
    "# Select relevant columns\n",
    "df_iris = df[[\"PetalLengthCm\", \"PetalWidthCm\"]].copy()\n",
    "\n",
    "# Apply natural log transformation (avoid log(0) issues)\n",
    "df_iris = df_iris[(df_iris[\"PetalLengthCm\"] > 0) & (df_iris[\"PetalWidthCm\"] > 0)]\n",
    "df_iris[\"logPetalLength\"] = np.log(df_iris[\"PetalLengthCm\"])\n",
    "df_iris[\"logPetalWidth\"] = np.log(df_iris[\"PetalWidthCm\"])\n",
    "\n",
    "# Plot with regression line\n",
    "plt.figure(figsize=(8, 6))\n",
    "sns.regplot(x=\"logPetalLength\", y=\"logPetalWidth\", data=df_iris, fit_reg=True)\n",
    "plt.title(\"Log-Log Regression: Petal Length vs Petal Width\")\n",
    "plt.xlabel(\"log(Petal Length in cm)\")\n",
    "plt.ylabel(\"log(Petal Width in cm)\")\n",
    "plt.show()"
   ]
  },
  {
   "cell_type": "code",
   "execution_count": 20,
   "metadata": {
    "id": "ck0rw3v9olLo"
   },
   "outputs": [],
   "source": [
    "# Use the already log-transformed columns from df_iris\n",
    "X = df_iris[[\"logPetalLength\"]]  # Feature\n",
    "y = df_iris[\"logPetalWidth\"]  # Target"
   ]
  },
  {
   "cell_type": "code",
   "execution_count": 21,
   "metadata": {
    "colab": {
     "base_uri": "https://localhost:8080/"
    },
    "executionInfo": {
     "elapsed": 7,
     "status": "ok",
     "timestamp": 1678454946193,
     "user": {
      "displayName": "munot tanay",
      "userId": "15858269882896927301"
     },
     "user_tz": -330
    },
    "id": "PToeQDK_pMjc",
    "outputId": "eb82d02b-ad62-4cd6-ad57-4bf6a91cf4e0"
   },
   "outputs": [
    {
     "name": "stdout",
     "output_type": "stream",
     "text": [
      "[-1.53541404 -1.53541404 -1.65540256 -1.4237074  -1.53541404 -1.22105524\n",
      " -1.53541404 -1.4237074  -1.53541404 -1.4237074  -1.4237074  -1.31921281\n",
      " -1.53541404 -1.92588051 -1.78500003 -1.4237074  -1.65540256 -1.53541404\n",
      " -1.22105524 -1.4237074  -1.22105524 -1.4237074  -2.08019761 -1.22105524\n",
      " -1.04096936 -1.31921281 -1.31921281 -1.4237074  -1.53541404 -1.31921281\n",
      " -1.31921281 -1.4237074  -1.4237074  -1.53541404 -1.4237074  -1.78500003\n",
      " -1.65540256 -1.4237074  -1.65540256 -1.4237074  -1.65540256 -1.65540256\n",
      " -1.65540256 -1.31921281 -1.04096936 -1.53541404 -1.31921281 -1.53541404\n",
      " -1.4237074  -1.53541404  0.42546719  0.35506026  0.49293962  0.16435727\n",
      "  0.3906464   0.35506026  0.42546719 -0.14711285  0.3906464   0.1233651\n",
      " -0.05184396  0.24335362  0.16435727  0.42546719 -0.00623238  0.31867437\n",
      "  0.35506026  0.20433718  0.35506026  0.1233651   0.45955485  0.16435727\n",
      "  0.49293962  0.42546719  0.28145195  0.31867437  0.45955485  0.5256499\n",
      "  0.35506026 -0.05184396  0.08130808  0.03812942  0.1233651   0.55771242\n",
      "  0.35506026  0.35506026  0.42546719  0.31867437  0.20433718  0.16435727\n",
      "  0.31867437  0.3906464   0.16435727 -0.14711285  0.24335362  0.24335362\n",
      "  0.24335362  0.28145195 -0.30142996  0.20433718  0.82084748  0.55771242\n",
      "  0.79363501  0.70914084  0.76595734  0.97516459  0.35506026  0.89984384\n",
      "  0.76595734  0.84761014  0.55771242  0.61999333  0.67996701  0.5256499\n",
      "  0.55771242  0.61999333  0.67996701  0.99951248  1.04713662  0.5256499\n",
      "  0.7377983   0.49293962  0.99951248  0.49293962  0.7377983   0.82084748\n",
      "  0.45955485  0.49293962  0.70914084  0.76595734  0.84761014  0.92534207\n",
      "  0.70914084  0.55771242  0.70914084  0.84761014  0.70914084  0.67996701\n",
      "  0.45955485  0.65025784  0.70914084  0.55771242  0.55771242  0.79363501\n",
      "  0.7377983   0.58915232  0.5256499   0.58915232  0.65025784  0.55771242]\n"
     ]
    }
   ],
   "source": [
    "from sklearn.linear_model import LinearRegression\n",
    "\n",
    "model= LinearRegression()\n",
    "model.fit(X,y)\n",
    "y_pred = model.predict(X)\n",
    "print(y_pred)\n"
   ]
  },
  {
   "cell_type": "markdown",
   "metadata": {
    "id": "COCkeLqup2VK"
   },
   "source": [
    "Evaluation Metrics"
   ]
  },
  {
   "cell_type": "code",
   "execution_count": 22,
   "metadata": {
    "colab": {
     "base_uri": "https://localhost:8080/"
    },
    "executionInfo": {
     "elapsed": 5,
     "status": "ok",
     "timestamp": 1678455952407,
     "user": {
      "displayName": "munot tanay",
      "userId": "15858269882896927301"
     },
     "user_tz": -330
    },
    "id": "Oh_e4-mIxIWh",
    "outputId": "4edfcb23-aeaa-461f-ba78-c69951708a4c"
   },
   "outputs": [
    {
     "name": "stdout",
     "output_type": "stream",
     "text": [
      "Pearson's correlation: 0.963\n"
     ]
    }
   ],
   "source": [
    "from scipy.stats import pearsonr\n",
    "\n",
    "list1 = df_iris[\"logPetalLength\"]\n",
    "list2 = df_iris[\"logPetalWidth\"]\n",
    "\n",
    "corr, _ = pearsonr(list1, list2)\n",
    "print(\"Pearson's correlation: %.3f\" % corr)"
   ]
  },
  {
   "cell_type": "code",
   "execution_count": 23,
   "metadata": {
    "colab": {
     "base_uri": "https://localhost:8080/"
    },
    "executionInfo": {
     "elapsed": 629,
     "status": "ok",
     "timestamp": 1678455980335,
     "user": {
      "displayName": "munot tanay",
      "userId": "15858269882896927301"
     },
     "user_tz": -330
    },
    "id": "8yAvZF4kp2CD",
    "outputId": "0686f31e-e67a-48c0-b1d0-b0f9a8ac8741"
   },
   "outputs": [
    {
     "name": "stdout",
     "output_type": "stream",
     "text": [
      "Mean Squared Error 0.07140657822939575\n"
     ]
    }
   ],
   "source": [
    "a = np.sum((y-y_pred)**2)\n",
    "n =np.size(y)\n",
    "\n",
    "mse = a/n\n",
    "print(\"Mean Squared Error\",mse)"
   ]
  },
  {
   "cell_type": "code",
   "execution_count": 24,
   "metadata": {
    "colab": {
     "base_uri": "https://localhost:8080/"
    },
    "executionInfo": {
     "elapsed": 3,
     "status": "ok",
     "timestamp": 1678455999069,
     "user": {
      "displayName": "munot tanay",
      "userId": "15858269882896927301"
     },
     "user_tz": -330
    },
    "id": "vsvWqVl5p4Wf",
    "outputId": "1fba27a1-a03c-483f-d903-024aff454c68"
   },
   "outputs": [
    {
     "name": "stdout",
     "output_type": "stream",
     "text": [
      "Root Mean Squared Error  0.2672200932366347\n"
     ]
    }
   ],
   "source": [
    "rmse = math.sqrt(mse)\n",
    "print(\"Root Mean Squared Error \",rmse)"
   ]
  },
  {
   "cell_type": "code",
   "execution_count": 25,
   "metadata": {
    "colab": {
     "base_uri": "https://localhost:8080/"
    },
    "executionInfo": {
     "elapsed": 670,
     "status": "ok",
     "timestamp": 1678456026037,
     "user": {
      "displayName": "munot tanay",
      "userId": "15858269882896927301"
     },
     "user_tz": -330
    },
    "id": "3s5D9ANluKr-",
    "outputId": "a8beca07-217d-49a1-93af-27951f3b4908"
   },
   "outputs": [
    {
     "name": "stdout",
     "output_type": "stream",
     "text": [
      "Coefficient of Determination  0.9268607362429973\n"
     ]
    },
    {
     "name": "stderr",
     "output_type": "stream",
     "text": [
      "c:\\Users\\DELL\\anaconda3\\Lib\\site-packages\\numpy\\core\\fromnumeric.py:86: FutureWarning: The behavior of DataFrame.sum with axis=None is deprecated, in a future version this will reduce over both axes and return a scalar. To retain the old behavior, pass axis=0 (or do not pass axis)\n",
      "  return reduction(axis=axis, out=out, **passkwargs)\n"
     ]
    }
   ],
   "source": [
    "q = np.sum((y-y_pred)**2)\n",
    "my = np.sum(y)/n\n",
    "mx =np.sum(X)/n\n",
    "p = np.sum((y-my)**2)\n",
    "\n",
    "R2 = 1-(q/p)\n",
    "print(\"Coefficient of Determination \",R2)"
   ]
  },
  {
   "cell_type": "code",
   "execution_count": null,
   "metadata": {
    "colab": {
     "base_uri": "https://localhost:8080/"
    },
    "executionInfo": {
     "elapsed": 920,
     "status": "ok",
     "timestamp": 1678456049268,
     "user": {
      "displayName": "munot tanay",
      "userId": "15858269882896927301"
     },
     "user_tz": -330
    },
    "id": "UelNYdNWuv8Y",
    "outputId": "33087333-fef8-42c3-aaae-363d614a9aee"
   },
   "outputs": [
    {
     "name": "stdout",
     "output_type": "stream",
     "text": [
      "Root Mean Squared Relative Error: 0.48944332895973164\n"
     ]
    }
   ],
   "source": [
    "import numpy as np\n",
    "import math\n",
    "\n",
    "# Filter out zero values in the target\n",
    "mask = y != 0\n",
    "y_filtered = y[mask]\n",
    "y_pred_filtered = y_pred[mask]\n",
    "\n",
    "# Compute RMSRE\n",
    "b = np.sum(((y_filtered - y_pred_filtered) / y_filtered) ** 2)\n",
    "rmsre = math.sqrt(b / len(y_filtered))\n",
    "print(\"Root Mean Squared Relative Error:\", rmsre)"
   ]
  },
  {
   "cell_type": "code",
   "execution_count": 27,
   "metadata": {
    "colab": {
     "base_uri": "https://localhost:8080/"
    },
    "executionInfo": {
     "elapsed": 567,
     "status": "ok",
     "timestamp": 1678456063148,
     "user": {
      "displayName": "munot tanay",
      "userId": "15858269882896927301"
     },
     "user_tz": -330
    },
    "id": "x7RaLSEVvJPd",
    "outputId": "b09c3545-8126-4fd4-afdb-bd7dc619ec94"
   },
   "outputs": [
    {
     "name": "stdout",
     "output_type": "stream",
     "text": [
      "Mean Absolute Error  0.18722666229741516\n"
     ]
    }
   ],
   "source": [
    "a = np.sum(abs(y-y_pred))\n",
    "n =np.size(y)\n",
    "\n",
    "mae = a/n\n",
    "print(\"Mean Absolute Error \",mae)"
   ]
  },
  {
   "cell_type": "code",
   "execution_count": 28,
   "metadata": {
    "colab": {
     "base_uri": "https://localhost:8080/"
    },
    "executionInfo": {
     "elapsed": 1163,
     "status": "ok",
     "timestamp": 1678456124377,
     "user": {
      "displayName": "munot tanay",
      "userId": "15858269882896927301"
     },
     "user_tz": -330
    },
    "id": "vkLPxN2hvVO2",
    "outputId": "3efc7bd1-60ea-4e25-f876-3f979b9e44c9"
   },
   "outputs": [
    {
     "name": "stdout",
     "output_type": "stream",
     "text": [
      "Mean absolute Percentage Error 26.401003234029286\n"
     ]
    }
   ],
   "source": [
    "b = np.sum(abs((y_filtered-y_pred_filtered)/y))\n",
    "mape = (100*b)/n\n",
    "print(\"Mean absolute Percentage Error\",mape)"
   ]
  }
 ],
 "metadata": {
  "colab": {
   "authorship_tag": "ABX9TyNY/I7bNC8oshz0xUj1YJ8d",
   "provenance": []
  },
  "kernelspec": {
   "display_name": "base",
   "language": "python",
   "name": "python3"
  },
  "language_info": {
   "codemirror_mode": {
    "name": "ipython",
    "version": 3
   },
   "file_extension": ".py",
   "mimetype": "text/x-python",
   "name": "python",
   "nbconvert_exporter": "python",
   "pygments_lexer": "ipython3",
   "version": "3.11.7"
  }
 },
 "nbformat": 4,
 "nbformat_minor": 0
}
