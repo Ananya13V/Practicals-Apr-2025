{
 "cells": [
  {
   "cell_type": "markdown",
   "metadata": {},
   "source": [
    "Exp 1 : Inferential Statistics on given Dataset "
   ]
  },
  {
   "cell_type": "markdown",
   "metadata": {},
   "source": [
    "Statistical Methods : Hypotheis testing and Z-test etc."
   ]
  },
  {
   "cell_type": "markdown",
   "metadata": {},
   "source": [
    "🔍 What is Hypothesis Testing?\n",
    "Hypothesis testing is a statistical method used to determine if there is enough evidence in a sample of data to support a particular hypothesis about the population. The goal is to test whether the observed data supports or contradicts a claim (hypothesis).\n",
    "\n",
    "Null Hypothesis (H₀): The hypothesis that there is no effect or no difference.\n",
    "\n",
    "Alternative Hypothesis (H₁): The hypothesis that there is an effect or a difference."
   ]
  },
  {
   "cell_type": "code",
   "execution_count": 1,
   "metadata": {
    "colab": {
     "base_uri": "https://localhost:8080/"
    },
    "executionInfo": {
     "elapsed": 33384,
     "status": "ok",
     "timestamp": 1678354929769,
     "user": {
      "displayName": "Gaming destiny",
      "userId": "09047007711734814274"
     },
     "user_tz": -330
    },
    "id": "PN8gWaLNKeXs",
    "outputId": "42cbf305-e95f-44a3-d5d9-248c76b1f847"
   },
   "outputs": [],
   "source": [
    "import pandas as pd\n",
    "import numpy as np\n",
    "df = pd.read_csv(\n",
    "    \"C:\\\\Users\\\\DELL\\\\Desktop\\\\College\\\\Practicals-Apr-2025\\\\ADS_codes\\\\ADS Datasets\\\\supermarket_sales - Sheet1.csv\"\n",
    ")\n"
   ]
  },
  {
   "cell_type": "code",
   "execution_count": 2,
   "metadata": {
    "colab": {
     "base_uri": "https://localhost:8080/",
     "height": 392
    },
    "executionInfo": {
     "elapsed": 451,
     "status": "ok",
     "timestamp": 1676266271701,
     "user": {
      "displayName": "Gaming destiny",
      "userId": "09047007711734814274"
     },
     "user_tz": -330
    },
    "id": "4L-9rBCZK0lH",
    "outputId": "af4be7ae-4f64-4b08-f859-0ab498e727f9"
   },
   "outputs": [
    {
     "data": {
      "text/html": [
       "<div>\n",
       "<style scoped>\n",
       "    .dataframe tbody tr th:only-of-type {\n",
       "        vertical-align: middle;\n",
       "    }\n",
       "\n",
       "    .dataframe tbody tr th {\n",
       "        vertical-align: top;\n",
       "    }\n",
       "\n",
       "    .dataframe thead th {\n",
       "        text-align: right;\n",
       "    }\n",
       "</style>\n",
       "<table border=\"1\" class=\"dataframe\">\n",
       "  <thead>\n",
       "    <tr style=\"text-align: right;\">\n",
       "      <th></th>\n",
       "      <th>Invoice ID</th>\n",
       "      <th>Branch</th>\n",
       "      <th>City</th>\n",
       "      <th>Customer type</th>\n",
       "      <th>Gender</th>\n",
       "      <th>Product line</th>\n",
       "      <th>Unit price</th>\n",
       "      <th>Quantity</th>\n",
       "      <th>Tax 5%</th>\n",
       "      <th>Total</th>\n",
       "      <th>Date</th>\n",
       "      <th>Time</th>\n",
       "      <th>Payment</th>\n",
       "      <th>cogs</th>\n",
       "      <th>gross margin percentage</th>\n",
       "      <th>gross income</th>\n",
       "      <th>Rating</th>\n",
       "    </tr>\n",
       "  </thead>\n",
       "  <tbody>\n",
       "    <tr>\n",
       "      <th>0</th>\n",
       "      <td>750-67-8428</td>\n",
       "      <td>A</td>\n",
       "      <td>Yangon</td>\n",
       "      <td>Member</td>\n",
       "      <td>Female</td>\n",
       "      <td>Health and beauty</td>\n",
       "      <td>74.69</td>\n",
       "      <td>7</td>\n",
       "      <td>26.1415</td>\n",
       "      <td>548.9715</td>\n",
       "      <td>1/5/2019</td>\n",
       "      <td>13:08</td>\n",
       "      <td>Ewallet</td>\n",
       "      <td>522.83</td>\n",
       "      <td>4.761905</td>\n",
       "      <td>26.1415</td>\n",
       "      <td>9.1</td>\n",
       "    </tr>\n",
       "    <tr>\n",
       "      <th>1</th>\n",
       "      <td>226-31-3081</td>\n",
       "      <td>C</td>\n",
       "      <td>Naypyitaw</td>\n",
       "      <td>Normal</td>\n",
       "      <td>Female</td>\n",
       "      <td>Electronic accessories</td>\n",
       "      <td>15.28</td>\n",
       "      <td>5</td>\n",
       "      <td>3.8200</td>\n",
       "      <td>80.2200</td>\n",
       "      <td>3/8/2019</td>\n",
       "      <td>10:29</td>\n",
       "      <td>Cash</td>\n",
       "      <td>76.40</td>\n",
       "      <td>4.761905</td>\n",
       "      <td>3.8200</td>\n",
       "      <td>9.6</td>\n",
       "    </tr>\n",
       "    <tr>\n",
       "      <th>2</th>\n",
       "      <td>631-41-3108</td>\n",
       "      <td>A</td>\n",
       "      <td>Yangon</td>\n",
       "      <td>Normal</td>\n",
       "      <td>Male</td>\n",
       "      <td>Home and lifestyle</td>\n",
       "      <td>46.33</td>\n",
       "      <td>7</td>\n",
       "      <td>16.2155</td>\n",
       "      <td>340.5255</td>\n",
       "      <td>3/3/2019</td>\n",
       "      <td>13:23</td>\n",
       "      <td>Credit card</td>\n",
       "      <td>324.31</td>\n",
       "      <td>4.761905</td>\n",
       "      <td>16.2155</td>\n",
       "      <td>7.4</td>\n",
       "    </tr>\n",
       "    <tr>\n",
       "      <th>3</th>\n",
       "      <td>123-19-1176</td>\n",
       "      <td>A</td>\n",
       "      <td>Yangon</td>\n",
       "      <td>Member</td>\n",
       "      <td>Male</td>\n",
       "      <td>Health and beauty</td>\n",
       "      <td>58.22</td>\n",
       "      <td>8</td>\n",
       "      <td>23.2880</td>\n",
       "      <td>489.0480</td>\n",
       "      <td>1/27/2019</td>\n",
       "      <td>20:33</td>\n",
       "      <td>Ewallet</td>\n",
       "      <td>465.76</td>\n",
       "      <td>4.761905</td>\n",
       "      <td>23.2880</td>\n",
       "      <td>8.4</td>\n",
       "    </tr>\n",
       "    <tr>\n",
       "      <th>4</th>\n",
       "      <td>373-73-7910</td>\n",
       "      <td>A</td>\n",
       "      <td>Yangon</td>\n",
       "      <td>Normal</td>\n",
       "      <td>Male</td>\n",
       "      <td>Sports and travel</td>\n",
       "      <td>86.31</td>\n",
       "      <td>7</td>\n",
       "      <td>30.2085</td>\n",
       "      <td>634.3785</td>\n",
       "      <td>2/8/2019</td>\n",
       "      <td>10:37</td>\n",
       "      <td>Ewallet</td>\n",
       "      <td>604.17</td>\n",
       "      <td>4.761905</td>\n",
       "      <td>30.2085</td>\n",
       "      <td>5.3</td>\n",
       "    </tr>\n",
       "  </tbody>\n",
       "</table>\n",
       "</div>"
      ],
      "text/plain": [
       "    Invoice ID Branch       City Customer type  Gender  \\\n",
       "0  750-67-8428      A     Yangon        Member  Female   \n",
       "1  226-31-3081      C  Naypyitaw        Normal  Female   \n",
       "2  631-41-3108      A     Yangon        Normal    Male   \n",
       "3  123-19-1176      A     Yangon        Member    Male   \n",
       "4  373-73-7910      A     Yangon        Normal    Male   \n",
       "\n",
       "             Product line  Unit price  Quantity   Tax 5%     Total       Date  \\\n",
       "0       Health and beauty       74.69         7  26.1415  548.9715   1/5/2019   \n",
       "1  Electronic accessories       15.28         5   3.8200   80.2200   3/8/2019   \n",
       "2      Home and lifestyle       46.33         7  16.2155  340.5255   3/3/2019   \n",
       "3       Health and beauty       58.22         8  23.2880  489.0480  1/27/2019   \n",
       "4       Sports and travel       86.31         7  30.2085  634.3785   2/8/2019   \n",
       "\n",
       "    Time      Payment    cogs  gross margin percentage  gross income  Rating  \n",
       "0  13:08      Ewallet  522.83                 4.761905       26.1415     9.1  \n",
       "1  10:29         Cash   76.40                 4.761905        3.8200     9.6  \n",
       "2  13:23  Credit card  324.31                 4.761905       16.2155     7.4  \n",
       "3  20:33      Ewallet  465.76                 4.761905       23.2880     8.4  \n",
       "4  10:37      Ewallet  604.17                 4.761905       30.2085     5.3  "
      ]
     },
     "execution_count": 2,
     "metadata": {},
     "output_type": "execute_result"
    }
   ],
   "source": [
    "df.head()"
   ]
  },
  {
   "cell_type": "code",
   "execution_count": 7,
   "metadata": {
    "colab": {
     "base_uri": "https://localhost:8080/"
    },
    "executionInfo": {
     "elapsed": 508,
     "status": "ok",
     "timestamp": 1678358408952,
     "user": {
      "displayName": "Gaming destiny",
      "userId": "09047007711734814274"
     },
     "user_tz": -330
    },
    "id": "KL_ViBnQQiDk",
    "outputId": "3df0698e-de8d-4fb9-eb1e-38d4aed2742d"
   },
   "outputs": [
    {
     "name": "stdout",
     "output_type": "stream",
     "text": [
      "for Z test\n",
      "-0.17922292918324573\n",
      "We Do NOT REJECT Null Hypothesis 😔 Stay with the status quo, darling.\n",
      "for T test\n",
      "-0.9025210904382202\n",
      "We Do NOT REJECT Null Hypothesis 😔 Status quo stays, darling.\n"
     ]
    }
   ],
   "source": [
    "from re import S\n",
    "import math as m\n",
    "\n",
    "# 💅 Alright girl, we’re gonna do a hypothesis test to see if the total amount exceeds 250 💸\n",
    "# 💁‍♀️ Z-test when population size > 30, and T-test when population size < 30. Let's get it! 🔥\n",
    "\n",
    "#  Null hypothesis (H₀): The total amount is less than or equal to 250 💁‍♀️\n",
    "#  Alternative hypothesis (H₁): The total amount is greater than 250 💅\n",
    "\n",
    "# 🎉 Time to grab some samples, babe! 💃\n",
    "df1 = df.sample(n=28)  # Sample size of 28 (for T-test)\n",
    "df2 = df.sample(n=100)  # Sample size of 100 (for Z-test)\n",
    "\n",
    "# 📏 Sample size\n",
    "nt = len(df1)  # T-test sample size\n",
    "nz = len(df2)  # Z-test sample size\n",
    "\n",
    "# 💖 Sample means (mean of the total amount in each sample)\n",
    "x_bar_t = df1[\"Total\"].mean()  # T-test sample mean\n",
    "x_bar_z = df2[\"Total\"].mean()  # Z-test sample mean\n",
    "\n",
    "# 💅 Population size (total number of records)\n",
    "n = len(df)\n",
    "\n",
    "# 💫 Population mean (mean of the whole population's total amount)\n",
    "meu = df[\"Total\"].mean()\n",
    "\n",
    "# 💁‍♀️ Standard deviation (How spread out is the data? 💃)\n",
    "s_t = df1[\"Total\"].std()  # T-test sample standard deviation\n",
    "s_z = df2[\"Total\"].std()  # Z-test sample standard deviation\n",
    "sigma = df[\"Total\"].std()  # Population standard deviation\n",
    "\n",
    "# 🥳 Let’s start with the Z-test (when n > 30, darling!)\n",
    "print(\"for Z test\")  # Z-test, yaaaas ✨\n",
    "Z_SCORE = (x_bar_z - meu) / (\n",
    "    sigma / m.sqrt(nz)\n",
    ")  # The formula for Z-test is all about that difference, babe 💅\n",
    "# Z_SCORE = round(Z_SCORE, 1)  # Keep it neat, sweetie 💖\n",
    "print(Z_SCORE)\n",
    "\n",
    "# 💅 Significance level, we’re keeping it chic at 0.05 🌟\n",
    "alpha = 0.05\n",
    "\n",
    "# 💃 Critical value for a right tail test. If Z-score > critical value, we reject the null hypothesis 💅\n",
    "critical_val = 1.65  # The magic number to compare! ✨\n",
    "if Z_SCORE > critical_val:\n",
    "    print(\n",
    "        \"We reject Null Hypothesis! 💅 Total amount is greater than 250 💃\"\n",
    "    )  # Rejecting that null, honey! 💅\n",
    "else:\n",
    "    print(\n",
    "        \"We Do NOT REJECT Null Hypothesis 😔 Stay with the status quo, darling.\"\n",
    "    )  # Nah, it's not significant enough 😭\n",
    "\n",
    "# 🌸 Time for the T-test (for sample size < 30, let's keep it classy 💅)\n",
    "print(\"for T test\")  # T-test, coming through 🔥\n",
    "T_SCORE = (x_bar_t - meu) / (s_t / m.sqrt(nt))  # T-test formula, so fab, darling! 💖\n",
    "# T_SCORE = round(T_SCORE, 1)  # Keep it fab and neat, like us ✨\n",
    "print(T_SCORE)\n",
    "\n",
    "# 💖 Significance level again, babe!\n",
    "alpha = 0.05\n",
    "\n",
    "# 🌸 Critical value for T-test with n-1 = 27 degrees of freedom and 0.05 significance ✨\n",
    "critical_val = 1.703  # Critical value for the T-test, keeping it fab 💁‍♀️\n",
    "\n",
    "# 💅 If T-score > critical value, we reject the null hypothesis (let's make some decisions here!)\n",
    "if T_SCORE > critical_val:\n",
    "    print(\n",
    "        \"We reject Null Hypothesis! 💃 The total amount is greater than 250! 😍\"\n",
    "    )  # Bye-bye, Null Hypothesis! 💖\n",
    "else:\n",
    "    print(\n",
    "        \"We Do NOT REJECT Null Hypothesis 😔 Status quo stays, darling.\"\n",
    "    )  # Ugh, not enough evidence 😞"
   ]
  },
  {
   "cell_type": "code",
   "execution_count": 4,
   "metadata": {
    "id": "nuNrjKsJpAmA"
   },
   "outputs": [],
   "source": [
    "# FOR 2 SMPLE TEST  WE CAN CREATE  DATA FRAME FOR MEN AND WOMEN ON GENDER FOR Quantity"
   ]
  },
  {
   "cell_type": "code",
   "execution_count": 8,
   "metadata": {
    "colab": {
     "base_uri": "https://localhost:8080/"
    },
    "executionInfo": {
     "elapsed": 7,
     "status": "ok",
     "timestamp": 1678362150766,
     "user": {
      "displayName": "Gaming destiny",
      "userId": "09047007711734814274"
     },
     "user_tz": -330
    },
    "id": "jPF8OefnZUDi",
    "outputId": "88b322c0-2c27-414e-e554-473a42a6c8b9"
   },
   "outputs": [
    {
     "name": "stdout",
     "output_type": "stream",
     "text": [
      "2.6010105213017494\n",
      "0.4089096286857567\n",
      "We Do NOT REJECT Null Hypothesis 😔 No significant difference found.\n"
     ]
    }
   ],
   "source": [
    "# 💖 Two sample Independent T Test 💅 Let's do it, girl! 💃\n",
    "men_arr = []  # A list to store all the data for men 👨\n",
    "women_arr = []  # A list to store all the data for women 👩\n",
    "import statistics, math\n",
    "\n",
    "# 🏃‍♀️ Splitting data based on gender - let's see those numbers! 💁‍♀️\n",
    "for i in range(29):  # Going through 29 entries, sweetie! 💖\n",
    "    if df[\"Gender\"][i] == \"Female\":\n",
    "        women_arr.append(df[\"Quantity\"][i])  # Collecting women's data 💅\n",
    "    else:\n",
    "        men_arr.append(df[\"Quantity\"][i])  # Collecting men's data 👏\n",
    "\n",
    "# 💅 Mean for men and women, because we're all about those averages, babe! 💖\n",
    "men_mean = statistics.fmean(men_arr)  # Mean for men 🏋️‍♂️\n",
    "women_mean = statistics.fmean(women_arr)  # Mean for women 💃\n",
    "# print(men_mean)  # Men mean, super sleek 💅\n",
    "# print(women_mean)  # Women mean, fabulous ✨\n",
    "\n",
    "# 💁‍♀️ Standard deviation - keeping it classy and real! 💖\n",
    "men_std = statistics.stdev(men_arr, xbar=men_mean)  # Men's standard deviation 💪\n",
    "women_std = statistics.stdev(\n",
    "    women_arr, xbar=women_mean\n",
    ")  # Women's standard deviation 👠\n",
    "# print(men_std)  # Checkin' that standard deviation for men! 🏋️‍♂️\n",
    "# print(women_std)  # Women's standard deviation lookin' chic 💅\n",
    "\n",
    "# 📏 Length of each group, let's see how many observations we have! ✨\n",
    "men_len = len(men_arr)  # How many men do we have? 👨‍🦱\n",
    "women_len = len(women_arr)  # How many women do we have? 👩‍🦳\n",
    "\n",
    "# 💅 Formula time, darling! Let's break it down! 💖\n",
    "lower = math.sqrt((1 / men_len) + (1 / women_len))  # The formula’s first part 🧮\n",
    "s = math.sqrt(\n",
    "    (((men_len - 1) * men_std * men_std) + ((women_len - 1) * women_std * women_std))\n",
    "    / (men_len + women_len - 2)\n",
    ")  # Our fabulous pooled standard deviation 👏\n",
    "print(s)\n",
    "\n",
    "# 💃 T-Score, here we come! Let’s compute it 🥳\n",
    "T_SCORE = abs(men_mean - women_mean) / (s * lower)  # T-score, the star of the show 💅\n",
    "print(T_SCORE)\n",
    "\n",
    "# 🌸 Degree of freedom: Let’s make sure we check it correctly 💅\n",
    "degree_freedom = men_len + women_len - 2  # Degrees of freedom for this test 💖\n",
    "# For this case, degree_freedom = 27, and alpha = 0.05, darling ✨\n",
    "\n",
    "# 💃 Critical value for T-test based on degrees of freedom and significance level\n",
    "tcritical = 1.703  # A t-critical value based on our degrees of freedom 😘\n",
    "\n",
    "# 💅 Let's check if T-score > critical value to make our decision 💖\n",
    "if T_SCORE > tcritical:\n",
    "    print(\n",
    "        \"We reject Null Hypothesis! 💅 There's a significant difference between men and women!\"\n",
    "    )  # Say bye to the null hypothesis! 💃\n",
    "else:\n",
    "    print(\n",
    "        \"We Do NOT REJECT Null Hypothesis 😔 No significant difference found.\"\n",
    "    )  # Nah, we keep it cute with the null 💅"
   ]
  },
  {
   "cell_type": "code",
   "execution_count": 9,
   "metadata": {
    "colab": {
     "base_uri": "https://localhost:8080/"
    },
    "executionInfo": {
     "elapsed": 860,
     "status": "ok",
     "timestamp": 1678363464334,
     "user": {
      "displayName": "Gaming destiny",
      "userId": "09047007711734814274"
     },
     "user_tz": -330
    },
    "id": "eSPdBWjdPaRk",
    "outputId": "b677d8ee-d004-4260-efcf-f62c0c6814c1"
   },
   "outputs": [
    {
     "name": "stdout",
     "output_type": "stream",
     "text": [
      "0.05643899911182299\n",
      "We Do NOT REJECT Null Hypothesis 😔 No significant difference found between men and women. 💖\n"
     ]
    }
   ],
   "source": [
    "# 💅 Two Sample Independent Z Test 💖\n",
    "# Null hypothesis = meu2 > meu1 (Men's mean is greater than women's mean)\n",
    "# Alternate hypothesis = meu1 > meu2 (Women's mean is greater than men's mean)\n",
    "# Right-tailed test with alpha = 0.05 ✨\n",
    "\n",
    "men_arr = []  # Men’s data coming right up! 👨\n",
    "women_arr = []  # Women’s data, let’s go! 👩\n",
    "import statistics, math  # Importing the cool stuff! 🧑‍🔬\n",
    "\n",
    "# 💁‍♀️ Splitting the data - we're collecting all the juicy details for men and women!\n",
    "for i in range(100):  # Going through 100 entries, let’s see what we’ve got! 💖\n",
    "    if df[\"Gender\"][i] == \"Female\":\n",
    "        women_arr.append(df[\"Quantity\"][i])  # Collecting the data for fabulous women 💅\n",
    "    else:\n",
    "        men_arr.append(df[\"Quantity\"][i])  # Collecting the data for handsome men 👨\n",
    "\n",
    "# 💅 Mean for men and women - let's get those averages! 📊\n",
    "men_mean = statistics.fmean(men_arr)  # Mean for men, because why not? 👨‍🦱\n",
    "women_mean = statistics.fmean(women_arr)  # Mean for women, slayin' it! 💁‍♀️\n",
    "# print(men_mean)  # Check out that mean for men! 😎\n",
    "# print(women_mean)  # Look at that mean for women! 👑\n",
    "\n",
    "# 📏 Standard deviation - the real MVP when comparing variability! 💅\n",
    "men_std = statistics.stdev(men_arr, xbar=men_mean)  # Standard deviation for men 💪\n",
    "women_std = statistics.stdev(\n",
    "    women_arr, xbar=women_mean\n",
    ")  # Standard deviation for women 💅\n",
    "# print(men_std)  # Checking out the standard deviation for men 🏋️‍♂️\n",
    "# print(women_std)  # Women’s standard deviation, stunning as always 😘\n",
    "\n",
    "# 🔢 Length of each group – we’re checking the sample sizes 💖\n",
    "men_len = len(men_arr)  # The number of men in the sample 😎\n",
    "women_len = len(women_arr)  # The number of women in the sample 💃\n",
    "\n",
    "# 🧮 Formula time – this is where the magic happens, babe! 💖\n",
    "lower = math.sqrt(\n",
    "    (men_std * men_std / men_len) + (women_std * women_std / women_len)\n",
    ")  # Calculating the denominator 💅\n",
    "\n",
    "# 📈 Z-Score, this is how we see if there's a significant difference! 💖\n",
    "Z_SCORE = abs(men_mean - women_mean) / lower  # Z-score calculation, it’s happening! ✨\n",
    "print(Z_SCORE)  # Look at that Z-Score go! 💃\n",
    "\n",
    "# 💖 Critical value for Z-test, let’s make the decision ✨\n",
    "Zcritical = 1.645  # Z-critical value for right-tailed test, with alpha = 0.05 💖\n",
    "\n",
    "# 💅 Now, let’s make the final call – do we reject the null hypothesis? 😘\n",
    "if Z_SCORE > Zcritical:\n",
    "    print(\n",
    "        \"We reject Null Hypothesis! 💅 Women’s mean is significantly greater than men’s mean 💃✨\"\n",
    "    )  # Boom! Bye-bye null hypothesis! 👋\n",
    "else:\n",
    "    print(\n",
    "        \"We Do NOT REJECT Null Hypothesis 😔 No significant difference found between men and women. 💖\"\n",
    "    )  # Stay fabulous, null hypothesis! 💅"
   ]
  }
 ],
 "metadata": {
  "colab": {
   "authorship_tag": "ABX9TyMexkrTOMYJp2uXM50PCcfG",
   "provenance": []
  },
  "kernelspec": {
   "display_name": "base",
   "language": "python",
   "name": "python3"
  },
  "language_info": {
   "codemirror_mode": {
    "name": "ipython",
    "version": 3
   },
   "file_extension": ".py",
   "mimetype": "text/x-python",
   "name": "python",
   "nbconvert_exporter": "python",
   "pygments_lexer": "ipython3",
   "version": "3.11.7"
  }
 },
 "nbformat": 4,
 "nbformat_minor": 0
}
